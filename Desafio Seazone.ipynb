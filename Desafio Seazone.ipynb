{
 "cells": [
  {
   "cell_type": "markdown",
   "metadata": {},
   "source": [
    "# 0. Seazone Code Challenge - Data Science"
   ]
  },
  {
   "cell_type": "markdown",
   "metadata": {},
   "source": [
    "**A análise desse notebook é baseada em dois datasets relacionados ao Airbnb:**\n",
    "- desafio_priceav.csv: Contém dados de ocupação e preço de anúncios;\n",
    "- desafio_details.csv: Contém características de cada anúncio.\n"
   ]
  },
  {
   "cell_type": "markdown",
   "metadata": {},
   "source": [
    "**Serão realizados os seguintes passos:**\n",
    "1. Importar as bibliotecas que serão utilizadas e configurar o notebook;\n",
    "2. Importar os dados e mesclá-los;\n",
    "3. Responder as questões propostas no desafio.\n",
    "---\n",
    "**Dicas para realização do desafio:**\n",
    "1. Recomendamos a utilização de Python e/ou R para a solução\n",
    "<br><t>a. Em python, recomendamos a biblioteca Pandas\n",
    "<br><t>b. Caso opte pelo Jupyter, garanta que seu código pode ser executado por\n",
    "terceiros\n",
    "2. O faturamento de um anúncio é a soma do preço das datas alugadas.\n",
    "3. Listing é sinônimo de anúncio\n",
    "4. Dentre os pontos a serem avaliados no desafio, destacamos:\n",
    "<br><t>a. A qualidade do ReadMe do Github\n",
    "<br><t>b. A organização, legibilidade e clareza do código\n",
    "<br><t>c. O embasamento das respostas"
   ]
  },
  {
   "cell_type": "markdown",
   "metadata": {},
   "source": [
    "# 1. Import Libs and Helper Functions"
   ]
  },
  {
   "cell_type": "markdown",
   "metadata": {},
   "source": [
    "- Nessa sessão iremos importar as bibliotecas que serão utilizadas ao longo do desafio e configurar o nosso notebook."
   ]
  },
  {
   "cell_type": "code",
   "execution_count": 1,
   "metadata": {},
   "outputs": [],
   "source": [
    "import pandas as pd\n",
    "import numpy as np\n",
    "import matplotlib.pyplot as plt\n",
    "import seaborn as sns\n",
    "from datetime import datetime\n",
    "from IPython.core.display import HTML"
   ]
  },
  {
   "cell_type": "code",
   "execution_count": 2,
   "metadata": {},
   "outputs": [
    {
     "data": {
      "text/html": [
       "<style>.container { width:100% !important; }</style>"
      ],
      "text/plain": [
       "<IPython.core.display.HTML object>"
      ]
     },
     "metadata": {},
     "output_type": "display_data"
    }
   ],
   "source": [
    "# Função para ajustar o notebook Jupyter\n",
    "def jupyter_settings():\n",
    "    %matplotlib inline\n",
    "    plt.style.use('bmh')\n",
    "    plt.rcParams['figure.figsize'] = [12, 8]\n",
    "    plt.rcParams['font.size'] = 24\n",
    "    display(HTML('<style>.container { width:100% !important; }</style>'))\n",
    "    pd.options.display.max_columns = None\n",
    "    pd.options.display.max_rows = None\n",
    "    pd.set_option('display.expand_frame_repr', False)\n",
    "    sns.set()\n",
    "    \n",
    "jupyter_settings()"
   ]
  },
  {
   "cell_type": "code",
   "execution_count": 3,
   "metadata": {},
   "outputs": [],
   "source": [
    "# Função para mudar as configurações de fonte nas plotagens\n",
    "def plot_config(title, xlabel, ylabel):\n",
    "    plt.ylabel(ylabel, labelpad = 15, fontsize=14, color='grey', fontweight='heavy')\n",
    "    plt.xlabel(xlabel, labelpad = 15, fontsize=14, color='grey', fontweight='heavy')\n",
    "    plt.title(title, fontsize=20, color='grey', fontweight='heavy', pad=20)"
   ]
  },
  {
   "cell_type": "markdown",
   "metadata": {},
   "source": [
    "# 2. Import and Merge Data"
   ]
  },
  {
   "cell_type": "markdown",
   "metadata": {},
   "source": [
    "- Agora iremos importar as bases de dados com pandas e mesclá-las."
   ]
  },
  {
   "cell_type": "code",
   "execution_count": 4,
   "metadata": {
    "scrolled": true
   },
   "outputs": [
    {
     "data": {
      "text/html": [
       "<div>\n",
       "<style scoped>\n",
       "    .dataframe tbody tr th:only-of-type {\n",
       "        vertical-align: middle;\n",
       "    }\n",
       "\n",
       "    .dataframe tbody tr th {\n",
       "        vertical-align: top;\n",
       "    }\n",
       "\n",
       "    .dataframe thead th {\n",
       "        text-align: right;\n",
       "    }\n",
       "</style>\n",
       "<table border=\"1\" class=\"dataframe\">\n",
       "  <thead>\n",
       "    <tr style=\"text-align: right;\">\n",
       "      <th></th>\n",
       "      <th>airbnb_listing_id</th>\n",
       "      <th>suburb</th>\n",
       "      <th>ad_name</th>\n",
       "      <th>number_of_bedrooms</th>\n",
       "      <th>number_of_bathrooms</th>\n",
       "      <th>star_rating</th>\n",
       "      <th>is_superhost</th>\n",
       "      <th>number_of_reviews</th>\n",
       "    </tr>\n",
       "  </thead>\n",
       "  <tbody>\n",
       "    <tr>\n",
       "      <th>0</th>\n",
       "      <td>31389869</td>\n",
       "      <td>Jurerê</td>\n",
       "      <td>Lindo Apartamento em Jurerê</td>\n",
       "      <td>2.0</td>\n",
       "      <td>2.0</td>\n",
       "      <td>5.0</td>\n",
       "      <td>False</td>\n",
       "      <td>15.0</td>\n",
       "    </tr>\n",
       "    <tr>\n",
       "      <th>1</th>\n",
       "      <td>40010667</td>\n",
       "      <td>Canasvieiras</td>\n",
       "      <td>Residencial Arruda, 1 quarto</td>\n",
       "      <td>1.0</td>\n",
       "      <td>1.0</td>\n",
       "      <td>NaN</td>\n",
       "      <td>False</td>\n",
       "      <td>0.0</td>\n",
       "    </tr>\n",
       "    <tr>\n",
       "      <th>2</th>\n",
       "      <td>38905997</td>\n",
       "      <td>Ingleses</td>\n",
       "      <td>Apartamento NOVO Completo - Moderno e Sofisticado</td>\n",
       "      <td>1.0</td>\n",
       "      <td>1.0</td>\n",
       "      <td>4.5</td>\n",
       "      <td>True</td>\n",
       "      <td>13.0</td>\n",
       "    </tr>\n",
       "    <tr>\n",
       "      <th>3</th>\n",
       "      <td>22343656</td>\n",
       "      <td>Ingleses</td>\n",
       "      <td>06- Apartamento 02 habitaciones</td>\n",
       "      <td>2.0</td>\n",
       "      <td>1.0</td>\n",
       "      <td>5.0</td>\n",
       "      <td>True</td>\n",
       "      <td>28.0</td>\n",
       "    </tr>\n",
       "    <tr>\n",
       "      <th>4</th>\n",
       "      <td>18328184</td>\n",
       "      <td>Canasvieiras</td>\n",
       "      <td>Apto 2 quartos em Canasvieiras, Florianopolis!</td>\n",
       "      <td>2.0</td>\n",
       "      <td>1.0</td>\n",
       "      <td>5.0</td>\n",
       "      <td>True</td>\n",
       "      <td>35.0</td>\n",
       "    </tr>\n",
       "  </tbody>\n",
       "</table>\n",
       "</div>"
      ],
      "text/plain": [
       "   airbnb_listing_id        suburb                                            ad_name  number_of_bedrooms  number_of_bathrooms  star_rating  is_superhost  number_of_reviews\n",
       "0           31389869        Jurerê                        Lindo Apartamento em Jurerê                 2.0                  2.0          5.0         False               15.0\n",
       "1           40010667  Canasvieiras                       Residencial Arruda, 1 quarto                 1.0                  1.0          NaN         False                0.0\n",
       "2           38905997      Ingleses  Apartamento NOVO Completo - Moderno e Sofisticado                 1.0                  1.0          4.5          True               13.0\n",
       "3           22343656      Ingleses                    06- Apartamento 02 habitaciones                 2.0                  1.0          5.0          True               28.0\n",
       "4           18328184  Canasvieiras     Apto 2 quartos em Canasvieiras, Florianopolis!                 2.0                  1.0          5.0          True               35.0"
      ]
     },
     "execution_count": 4,
     "metadata": {},
     "output_type": "execute_result"
    }
   ],
   "source": [
    "# Lendo details.csv\n",
    "details = pd.read_csv('data/desafio_details.csv', index_col=0)\n",
    "details.head()"
   ]
  },
  {
   "cell_type": "code",
   "execution_count": 5,
   "metadata": {},
   "outputs": [
    {
     "data": {
      "text/plain": [
       "(4691, 8)"
      ]
     },
     "execution_count": 5,
     "metadata": {},
     "output_type": "execute_result"
    }
   ],
   "source": [
    "details.shape"
   ]
  },
  {
   "cell_type": "code",
   "execution_count": 6,
   "metadata": {
    "scrolled": true
   },
   "outputs": [
    {
     "data": {
      "text/html": [
       "<div>\n",
       "<style scoped>\n",
       "    .dataframe tbody tr th:only-of-type {\n",
       "        vertical-align: middle;\n",
       "    }\n",
       "\n",
       "    .dataframe tbody tr th {\n",
       "        vertical-align: top;\n",
       "    }\n",
       "\n",
       "    .dataframe thead th {\n",
       "        text-align: right;\n",
       "    }\n",
       "</style>\n",
       "<table border=\"1\" class=\"dataframe\">\n",
       "  <thead>\n",
       "    <tr style=\"text-align: right;\">\n",
       "      <th></th>\n",
       "      <th>airbnb_listing_id</th>\n",
       "      <th>booked_on</th>\n",
       "      <th>date</th>\n",
       "      <th>price_string</th>\n",
       "      <th>occupied</th>\n",
       "    </tr>\n",
       "  </thead>\n",
       "  <tbody>\n",
       "    <tr>\n",
       "      <th>0</th>\n",
       "      <td>40201349</td>\n",
       "      <td>blank</td>\n",
       "      <td>2020-11-15</td>\n",
       "      <td>250.0</td>\n",
       "      <td>0</td>\n",
       "    </tr>\n",
       "    <tr>\n",
       "      <th>1</th>\n",
       "      <td>40201349</td>\n",
       "      <td>blank</td>\n",
       "      <td>2020-11-26</td>\n",
       "      <td>250.0</td>\n",
       "      <td>0</td>\n",
       "    </tr>\n",
       "    <tr>\n",
       "      <th>2</th>\n",
       "      <td>40201349</td>\n",
       "      <td>blank</td>\n",
       "      <td>2020-11-27</td>\n",
       "      <td>250.0</td>\n",
       "      <td>0</td>\n",
       "    </tr>\n",
       "    <tr>\n",
       "      <th>3</th>\n",
       "      <td>40201349</td>\n",
       "      <td>blank</td>\n",
       "      <td>2020-12-10</td>\n",
       "      <td>250.0</td>\n",
       "      <td>0</td>\n",
       "    </tr>\n",
       "    <tr>\n",
       "      <th>4</th>\n",
       "      <td>40201349</td>\n",
       "      <td>blank</td>\n",
       "      <td>2021-02-01</td>\n",
       "      <td>250.0</td>\n",
       "      <td>0</td>\n",
       "    </tr>\n",
       "  </tbody>\n",
       "</table>\n",
       "</div>"
      ],
      "text/plain": [
       "   airbnb_listing_id booked_on        date  price_string  occupied\n",
       "0           40201349     blank  2020-11-15         250.0         0\n",
       "1           40201349     blank  2020-11-26         250.0         0\n",
       "2           40201349     blank  2020-11-27         250.0         0\n",
       "3           40201349     blank  2020-12-10         250.0         0\n",
       "4           40201349     blank  2021-02-01         250.0         0"
      ]
     },
     "execution_count": 6,
     "metadata": {},
     "output_type": "execute_result"
    }
   ],
   "source": [
    "# Lendo priceav.csv\n",
    "priceav = pd.read_csv('data/desafio_priceav.csv', index_col=0)\n",
    "priceav = priceav.copy().iloc[:,1:]\n",
    "priceav.head()"
   ]
  },
  {
   "cell_type": "code",
   "execution_count": 7,
   "metadata": {},
   "outputs": [
    {
     "data": {
      "text/plain": [
       "(354520, 5)"
      ]
     },
     "execution_count": 7,
     "metadata": {},
     "output_type": "execute_result"
    }
   ],
   "source": [
    "priceav.shape"
   ]
  },
  {
   "cell_type": "code",
   "execution_count": 8,
   "metadata": {
    "scrolled": false
   },
   "outputs": [
    {
     "data": {
      "text/html": [
       "<div>\n",
       "<style scoped>\n",
       "    .dataframe tbody tr th:only-of-type {\n",
       "        vertical-align: middle;\n",
       "    }\n",
       "\n",
       "    .dataframe tbody tr th {\n",
       "        vertical-align: top;\n",
       "    }\n",
       "\n",
       "    .dataframe thead th {\n",
       "        text-align: right;\n",
       "    }\n",
       "</style>\n",
       "<table border=\"1\" class=\"dataframe\">\n",
       "  <thead>\n",
       "    <tr style=\"text-align: right;\">\n",
       "      <th></th>\n",
       "      <th>airbnb_listing_id</th>\n",
       "      <th>suburb</th>\n",
       "      <th>ad_name</th>\n",
       "      <th>number_of_bedrooms</th>\n",
       "      <th>number_of_bathrooms</th>\n",
       "      <th>star_rating</th>\n",
       "      <th>is_superhost</th>\n",
       "      <th>number_of_reviews</th>\n",
       "      <th>booked_on</th>\n",
       "      <th>date</th>\n",
       "      <th>price_string</th>\n",
       "      <th>occupied</th>\n",
       "    </tr>\n",
       "  </thead>\n",
       "  <tbody>\n",
       "    <tr>\n",
       "      <th>0</th>\n",
       "      <td>31389869</td>\n",
       "      <td>Jurerê</td>\n",
       "      <td>Lindo Apartamento em Jurerê</td>\n",
       "      <td>2.0</td>\n",
       "      <td>2.0</td>\n",
       "      <td>5.0</td>\n",
       "      <td>False</td>\n",
       "      <td>15.0</td>\n",
       "      <td>2020-12-04 00:00:00</td>\n",
       "      <td>2020-12-04</td>\n",
       "      <td>270.0</td>\n",
       "      <td>1</td>\n",
       "    </tr>\n",
       "    <tr>\n",
       "      <th>1</th>\n",
       "      <td>31389869</td>\n",
       "      <td>Jurerê</td>\n",
       "      <td>Lindo Apartamento em Jurerê</td>\n",
       "      <td>2.0</td>\n",
       "      <td>2.0</td>\n",
       "      <td>5.0</td>\n",
       "      <td>False</td>\n",
       "      <td>15.0</td>\n",
       "      <td>2020-12-04 00:00:00</td>\n",
       "      <td>2020-12-05</td>\n",
       "      <td>270.0</td>\n",
       "      <td>1</td>\n",
       "    </tr>\n",
       "    <tr>\n",
       "      <th>2</th>\n",
       "      <td>31389869</td>\n",
       "      <td>Jurerê</td>\n",
       "      <td>Lindo Apartamento em Jurerê</td>\n",
       "      <td>2.0</td>\n",
       "      <td>2.0</td>\n",
       "      <td>5.0</td>\n",
       "      <td>False</td>\n",
       "      <td>15.0</td>\n",
       "      <td>2020-12-04 00:00:00</td>\n",
       "      <td>2020-12-06</td>\n",
       "      <td>270.0</td>\n",
       "      <td>1</td>\n",
       "    </tr>\n",
       "    <tr>\n",
       "      <th>3</th>\n",
       "      <td>31389869</td>\n",
       "      <td>Jurerê</td>\n",
       "      <td>Lindo Apartamento em Jurerê</td>\n",
       "      <td>2.0</td>\n",
       "      <td>2.0</td>\n",
       "      <td>5.0</td>\n",
       "      <td>False</td>\n",
       "      <td>15.0</td>\n",
       "      <td>2020-12-04 00:00:00</td>\n",
       "      <td>2020-12-07</td>\n",
       "      <td>270.0</td>\n",
       "      <td>1</td>\n",
       "    </tr>\n",
       "    <tr>\n",
       "      <th>4</th>\n",
       "      <td>31389869</td>\n",
       "      <td>Jurerê</td>\n",
       "      <td>Lindo Apartamento em Jurerê</td>\n",
       "      <td>2.0</td>\n",
       "      <td>2.0</td>\n",
       "      <td>5.0</td>\n",
       "      <td>False</td>\n",
       "      <td>15.0</td>\n",
       "      <td>2020-12-04 00:00:00</td>\n",
       "      <td>2020-12-08</td>\n",
       "      <td>270.0</td>\n",
       "      <td>1</td>\n",
       "    </tr>\n",
       "  </tbody>\n",
       "</table>\n",
       "</div>"
      ],
      "text/plain": [
       "   airbnb_listing_id  suburb                      ad_name  number_of_bedrooms  number_of_bathrooms  star_rating  is_superhost  number_of_reviews            booked_on        date  price_string  occupied\n",
       "0           31389869  Jurerê  Lindo Apartamento em Jurerê                 2.0                  2.0          5.0         False               15.0  2020-12-04 00:00:00  2020-12-04         270.0         1\n",
       "1           31389869  Jurerê  Lindo Apartamento em Jurerê                 2.0                  2.0          5.0         False               15.0  2020-12-04 00:00:00  2020-12-05         270.0         1\n",
       "2           31389869  Jurerê  Lindo Apartamento em Jurerê                 2.0                  2.0          5.0         False               15.0  2020-12-04 00:00:00  2020-12-06         270.0         1\n",
       "3           31389869  Jurerê  Lindo Apartamento em Jurerê                 2.0                  2.0          5.0         False               15.0  2020-12-04 00:00:00  2020-12-07         270.0         1\n",
       "4           31389869  Jurerê  Lindo Apartamento em Jurerê                 2.0                  2.0          5.0         False               15.0  2020-12-04 00:00:00  2020-12-08         270.0         1"
      ]
     },
     "execution_count": 8,
     "metadata": {},
     "output_type": "execute_result"
    }
   ],
   "source": [
    "# Mesclando os datasets details e priceav\n",
    "full_data = pd.merge(details, priceav, on='airbnb_listing_id')\n",
    "full_data.head()"
   ]
  },
  {
   "cell_type": "code",
   "execution_count": 9,
   "metadata": {},
   "outputs": [
    {
     "data": {
      "text/plain": [
       "(354520, 12)"
      ]
     },
     "execution_count": 9,
     "metadata": {},
     "output_type": "execute_result"
    }
   ],
   "source": [
    "full_data.shape"
   ]
  },
  {
   "cell_type": "markdown",
   "metadata": {},
   "source": [
    "# 3. Answering the questions"
   ]
  },
  {
   "cell_type": "markdown",
   "metadata": {},
   "source": [
    "- Nessa sessão iremos responder os questionamentos do desafio."
   ]
  },
  {
   "cell_type": "markdown",
   "metadata": {},
   "source": [
    "**Com base nas informações:**\n",
    "1. Ordene os bairros em ordem crescente de número de listings\n",
    "2. Ordene os bairros em ordem crescente de faturamento médio dos listings\n",
    "3. Existem correlações entre as características de um anúncio e seu faturamento?\n",
    "<br><t>a. Quais? Explique\n",
    "4. Qual a antecedência média das reservas?\n",
    "<br><t>a. Esse número é maior ou menor para finais de semana?\n",
    "<br>Onde possível, embase sua análise com gráficos."
   ]
  },
  {
   "cell_type": "markdown",
   "metadata": {},
   "source": [
    "## Q1. Ordenando os bairros em ordem crescente de número de listings"
   ]
  },
  {
   "cell_type": "markdown",
   "metadata": {},
   "source": [
    "- Aqui nós iremos usar apenas o dataframe details, já que o mesmo é a nossa tabela dimensão, retorna a quantidade total de anúncios (onde o id do anúncio é a chave primária) e possui uma coluna com os bairros, a qual podemos utilizar para fazer essa estratificação."
   ]
  },
  {
   "cell_type": "code",
   "execution_count": 10,
   "metadata": {},
   "outputs": [
    {
     "data": {
      "image/png": "[encoded data removed]",
      "text/plain": [
       "<Figure size 864x576 with 1 Axes>"
      ]
     },
     "metadata": {},
     "output_type": "display_data"
    }
   ],
   "source": [
    "# Plotando gráfico\n",
    "plot = sns.countplot(data=details, y='suburb', order=details['suburb'].value_counts().sort_values(ascending=True).index)\n",
    "plot_config(title='Quantidade de anúncios por bairro', xlabel='Quantidade de Anúncios', ylabel='Bairros')\n",
    "\n",
    "# Plotando rótulos\n",
    "for p in plot.patches:\n",
    "    width = p.get_width()\n",
    "    y = p.get_y()\n",
    "    plot.text(x=0+(width/2), y=y+0.5, s='{:.0f}'.format(width),\n",
    "              ha=\"center\", color='white', fontweight='heavy', fontsize=14);"
   ]
  },
  {
   "cell_type": "markdown",
   "metadata": {},
   "source": [
    "## Q2. Ordene os bairros em ordem crescente de faturamento médio dos listings"
   ]
  },
  {
   "cell_type": "markdown",
   "metadata": {},
   "source": [
    "- Aqui serão utilizadas os dois dataframes mesclados pela coluna 'airbnb_listing_id' e filtrado pela coluna 'occupied' == 1, ou seja, estaremos calculando o faturamento total de cada anúncio quando locado e posteriormente retirando o faturamento médio dos anúncios por bairro."
   ]
  },
  {
   "cell_type": "code",
   "execution_count": 11,
   "metadata": {
    "scrolled": false
   },
   "outputs": [
    {
     "data": {
      "text/html": [
       "<div>\n",
       "<style scoped>\n",
       "    .dataframe tbody tr th:only-of-type {\n",
       "        vertical-align: middle;\n",
       "    }\n",
       "\n",
       "    .dataframe tbody tr th {\n",
       "        vertical-align: top;\n",
       "    }\n",
       "\n",
       "    .dataframe thead th {\n",
       "        text-align: right;\n",
       "    }\n",
       "</style>\n",
       "<table border=\"1\" class=\"dataframe\">\n",
       "  <thead>\n",
       "    <tr style=\"text-align: right;\">\n",
       "      <th></th>\n",
       "      <th>airbnb_listing_id</th>\n",
       "      <th>suburb</th>\n",
       "      <th>ad_name</th>\n",
       "      <th>number_of_bedrooms</th>\n",
       "      <th>number_of_bathrooms</th>\n",
       "      <th>star_rating</th>\n",
       "      <th>is_superhost</th>\n",
       "      <th>number_of_reviews</th>\n",
       "      <th>total_revenue</th>\n",
       "    </tr>\n",
       "  </thead>\n",
       "  <tbody>\n",
       "    <tr>\n",
       "      <th>0</th>\n",
       "      <td>31389869</td>\n",
       "      <td>Jurerê</td>\n",
       "      <td>Lindo Apartamento em Jurerê</td>\n",
       "      <td>2.0</td>\n",
       "      <td>2.0</td>\n",
       "      <td>5.0</td>\n",
       "      <td>False</td>\n",
       "      <td>15.0</td>\n",
       "      <td>6400.0</td>\n",
       "    </tr>\n",
       "    <tr>\n",
       "      <th>1</th>\n",
       "      <td>40010667</td>\n",
       "      <td>Canasvieiras</td>\n",
       "      <td>Residencial Arruda, 1 quarto</td>\n",
       "      <td>1.0</td>\n",
       "      <td>1.0</td>\n",
       "      <td>NaN</td>\n",
       "      <td>False</td>\n",
       "      <td>0.0</td>\n",
       "      <td>8640.0</td>\n",
       "    </tr>\n",
       "    <tr>\n",
       "      <th>2</th>\n",
       "      <td>38905997</td>\n",
       "      <td>Ingleses</td>\n",
       "      <td>Apartamento NOVO Completo - Moderno e Sofisticado</td>\n",
       "      <td>1.0</td>\n",
       "      <td>1.0</td>\n",
       "      <td>4.5</td>\n",
       "      <td>True</td>\n",
       "      <td>13.0</td>\n",
       "      <td>8078.0</td>\n",
       "    </tr>\n",
       "    <tr>\n",
       "      <th>3</th>\n",
       "      <td>18328184</td>\n",
       "      <td>Canasvieiras</td>\n",
       "      <td>Apto 2 quartos em Canasvieiras, Florianopolis!</td>\n",
       "      <td>2.0</td>\n",
       "      <td>1.0</td>\n",
       "      <td>5.0</td>\n",
       "      <td>True</td>\n",
       "      <td>35.0</td>\n",
       "      <td>15195.0</td>\n",
       "    </tr>\n",
       "    <tr>\n",
       "      <th>4</th>\n",
       "      <td>31301214</td>\n",
       "      <td>Ingleses</td>\n",
       "      <td>Apartamento beira mar com piscina nos Ingleses</td>\n",
       "      <td>2.0</td>\n",
       "      <td>2.0</td>\n",
       "      <td>5.0</td>\n",
       "      <td>True</td>\n",
       "      <td>62.0</td>\n",
       "      <td>6460.0</td>\n",
       "    </tr>\n",
       "  </tbody>\n",
       "</table>\n",
       "</div>"
      ],
      "text/plain": [
       "   airbnb_listing_id        suburb                                            ad_name  number_of_bedrooms  number_of_bathrooms  star_rating  is_superhost  number_of_reviews  total_revenue\n",
       "0           31389869        Jurerê                        Lindo Apartamento em Jurerê                 2.0                  2.0          5.0         False               15.0         6400.0\n",
       "1           40010667  Canasvieiras                       Residencial Arruda, 1 quarto                 1.0                  1.0          NaN         False                0.0         8640.0\n",
       "2           38905997      Ingleses  Apartamento NOVO Completo - Moderno e Sofisticado                 1.0                  1.0          4.5          True               13.0         8078.0\n",
       "3           18328184  Canasvieiras     Apto 2 quartos em Canasvieiras, Florianopolis!                 2.0                  1.0          5.0          True               35.0        15195.0\n",
       "4           31301214      Ingleses     Apartamento beira mar com piscina nos Ingleses                 2.0                  2.0          5.0          True               62.0         6460.0"
      ]
     },
     "execution_count": 11,
     "metadata": {},
     "output_type": "execute_result"
    }
   ],
   "source": [
    "# Filtrando apenas os dados onde as locações estavam ocupadas\n",
    "full_data_occupied = full_data[full_data['occupied'] == 1].copy()\n",
    "\n",
    "# Calculando o total de faturamento por anúncio \n",
    "total_revenues_per_listing = full_data_occupied.groupby('airbnb_listing_id')[['price_string']].sum().reset_index()\n",
    "total_revenues_per_listing.rename(columns={'price_string':'total_revenue'}, inplace=True)\n",
    "\n",
    "# Mesclando o total de faturamento aos detalhes de cada anúncio\n",
    "details_revenue = pd.merge(details, total_revenues_per_listing, on='airbnb_listing_id')\n",
    "\n",
    "details_revenue.head()"
   ]
  },
  {
   "cell_type": "code",
   "execution_count": 12,
   "metadata": {},
   "outputs": [
    {
     "data": {
      "image/png": "[encoded data removed]",
      "text/plain": [
       "<Figure size 864x576 with 1 Axes>"
      ]
     },
     "metadata": {},
     "output_type": "display_data"
    }
   ],
   "source": [
    "# Criando tabela com a média de faturamento dos anúncios por cada bairro\n",
    "ordered_by_avg_revenue = details_revenue.groupby('suburb').mean().sort_values('total_revenue', ascending=True)['total_revenue']\n",
    "\n",
    "# Plotando gráfico\n",
    "plot = sns.barplot(y=ordered_by_avg_revenue.index, x=ordered_by_avg_revenue.values)\n",
    "plot_config(title='Faturamento médio dos anúncios por bairro', xlabel='Faturamento médio dos anúncios', ylabel='Bairros')\n",
    "\n",
    "# Plotando rótulos\n",
    "for p in plot.patches:\n",
    "    width = p.get_width()\n",
    "    y = p.get_y()\n",
    "    plot.text(x=0+(width/2), y=y+0.5, s='R$ {:.2f}'.format(width),\n",
    "              ha=\"center\", color='white', fontweight='heavy', fontsize=14);"
   ]
  },
  {
   "cell_type": "markdown",
   "metadata": {},
   "source": [
    "## Q3. Existem correlações entre as características de um anúncio e seu faturamento?\n",
    "a. Quais? Explique."
   ]
  },
  {
   "cell_type": "markdown",
   "metadata": {},
   "source": [
    "---\n",
    "- Aqui nós estaremos medindo a correlação entre as características dos anúncios e o faturamento total dos mesmos."
   ]
  },
  {
   "cell_type": "code",
   "execution_count": 13,
   "metadata": {},
   "outputs": [
    {
     "data": {
      "text/html": [
       "<div>\n",
       "<style scoped>\n",
       "    .dataframe tbody tr th:only-of-type {\n",
       "        vertical-align: middle;\n",
       "    }\n",
       "\n",
       "    .dataframe tbody tr th {\n",
       "        vertical-align: top;\n",
       "    }\n",
       "\n",
       "    .dataframe thead th {\n",
       "        text-align: right;\n",
       "    }\n",
       "</style>\n",
       "<table border=\"1\" class=\"dataframe\">\n",
       "  <thead>\n",
       "    <tr style=\"text-align: right;\">\n",
       "      <th></th>\n",
       "      <th>total_revenue</th>\n",
       "    </tr>\n",
       "  </thead>\n",
       "  <tbody>\n",
       "    <tr>\n",
       "      <th>airbnb_listing_id</th>\n",
       "      <td>0.032894</td>\n",
       "    </tr>\n",
       "    <tr>\n",
       "      <th>number_of_bedrooms</th>\n",
       "      <td>0.195489</td>\n",
       "    </tr>\n",
       "    <tr>\n",
       "      <th>number_of_bathrooms</th>\n",
       "      <td>0.207884</td>\n",
       "    </tr>\n",
       "    <tr>\n",
       "      <th>star_rating</th>\n",
       "      <td>0.068390</td>\n",
       "    </tr>\n",
       "    <tr>\n",
       "      <th>is_superhost</th>\n",
       "      <td>0.087364</td>\n",
       "    </tr>\n",
       "    <tr>\n",
       "      <th>number_of_reviews</th>\n",
       "      <td>0.113743</td>\n",
       "    </tr>\n",
       "    <tr>\n",
       "      <th>total_revenue</th>\n",
       "      <td>1.000000</td>\n",
       "    </tr>\n",
       "  </tbody>\n",
       "</table>\n",
       "</div>"
      ],
      "text/plain": [
       "                     total_revenue\n",
       "airbnb_listing_id         0.032894\n",
       "number_of_bedrooms        0.195489\n",
       "number_of_bathrooms       0.207884\n",
       "star_rating               0.068390\n",
       "is_superhost              0.087364\n",
       "number_of_reviews         0.113743\n",
       "total_revenue             1.000000"
      ]
     },
     "execution_count": 13,
     "metadata": {},
     "output_type": "execute_result"
    }
   ],
   "source": [
    "# Listando as correlações dos detalhes de cada anúncio implicados no faturamento total dos mesmos\n",
    "details_revenue.corr()[['total_revenue']]"
   ]
  },
  {
   "cell_type": "markdown",
   "metadata": {},
   "source": [
    "**Resposta**<br>\n",
    "Apesar de baixas correlações, sim. Principalmente o **número de quartos** e o **número de banheiros**, pois são os que possuem correlações mais impactantes (próximo de 1 ou de -1) e em ambos são correlações diretamente proporcionais, ou seja, quanto maior o número de quartos ou maior o número de banheiros, maior tende a ser o seu faturamento. No caso das outras características há correlações pouco impactantes."
   ]
  },
  {
   "cell_type": "markdown",
   "metadata": {
    "code_folding": []
   },
   "source": [
    "## Q4. Qual a antecedência média das reservas?\n",
    "a. Esse número é maior ou menor para finais de semana?"
   ]
  },
  {
   "cell_type": "markdown",
   "metadata": {},
   "source": [
    "---\n",
    "- Por fim iremos criar uma coluna constando a diferença entre a data de ocupação e a data de locação, para assim sabermos a antecedência no qual cada local foi reservado, calcularmos a média dessas antecedências e identificarmos se para locações nos fins de semana essa média é maior ou menor que a dos dias úteis."
   ]
  },
  {
   "cell_type": "code",
   "execution_count": 14,
   "metadata": {},
   "outputs": [],
   "source": [
    "# Transformando strings em datas\n",
    "full_data_occupied['date'] = full_data_occupied['date'].apply(lambda x: datetime.strptime(x.split('-')[2] + '/' + x.split('-')[1] + '/' + x.split('-')[0], '%d/%m/%Y'))\n",
    "full_data_occupied['booked_on'] = full_data_occupied['booked_on'].apply(lambda x: datetime.strptime(x.split(' ')[0].split('-')[2] + '/' + x.split(' ')[0].split('-')[1] + '/' + x.split(' ')[0].split('-')[0], '%d/%m/%Y'))\n",
    "\n",
    "# Substituindo os outliers de 'booked_on' pela média, o limiar escolhido foi o de 13/08/2008, data da fundação do Airbnb, pois existiam datas menores que essa\n",
    "full_data_occupied.loc[full_data_occupied['booked_on'] < '13/08/2008', 'booked_on'] = full_data_occupied['booked_on'].mean()\n",
    "\n",
    "# Criando coluna com a diferença, em dias, entre a data de ocupação e a data da reserva\n",
    "full_data_occupied['difference'] = (full_data_occupied['date'] - full_data_occupied['booked_on']).dt.days"
   ]
  },
  {
   "cell_type": "code",
   "execution_count": 15,
   "metadata": {},
   "outputs": [
    {
     "name": "stdout",
     "output_type": "stream",
     "text": [
      "Antecedência média das reservas na semana inteira = 37.68 dias\n"
     ]
    }
   ],
   "source": [
    "# Calculando a antecedência média das reservas\n",
    "print(\"Antecedência média das reservas na semana inteira = {:.2f} dias\".format(full_data_occupied['difference'].mean()))"
   ]
  },
  {
   "cell_type": "markdown",
   "metadata": {},
   "source": [
    "**Resposta**<br>\n",
    "A antecedência média com qual as reservas são feitas é de aproximadamente 37 dias e 16 horas."
   ]
  },
  {
   "cell_type": "code",
   "execution_count": 16,
   "metadata": {},
   "outputs": [],
   "source": [
    "# Criando coluna com os nomes dos dias da semana\n",
    "full_data_occupied['weekday'] = full_data_occupied['date'].dt.day_name()"
   ]
  },
  {
   "cell_type": "code",
   "execution_count": 17,
   "metadata": {},
   "outputs": [
    {
     "data": {
      "image/png": "[encoded data removed]",
      "text/plain": [
       "<Figure size 864x576 with 1 Axes>"
      ]
     },
     "metadata": {},
     "output_type": "display_data"
    }
   ],
   "source": [
    "# Criando tabela com antecedência média das reservas por cada dia da semana\n",
    "mean_advance_by_weekday = full_data_occupied.groupby('weekday')['difference'].mean().sort_values()\n",
    "\n",
    "# Plotando gráfico\n",
    "plot = sns.barplot(y=mean_advance_by_weekday.index, x=mean_advance_by_weekday.values)\n",
    "plot_config(title='Antecedência média das reservas por dia da semana', xlabel='Antecedência média das reservas', ylabel='Dia da Semana')\n",
    "\n",
    "# Plotando rótulos\n",
    "for p in plot.patches:\n",
    "    width = p.get_width()\n",
    "    y = p.get_y()\n",
    "    plot.text(x=0+(width/2), y=y+0.5, s='{:.2f} dias'.format(width),\n",
    "              ha=\"center\", color='white', fontweight='heavy', fontsize=14);"
   ]
  },
  {
   "cell_type": "markdown",
   "metadata": {},
   "source": [
    "**Resposta**<br>\n",
    "Os dias com maior antecedência média das reservas são **quarta-feira**, **quinta-feira** e **domingo**."
   ]
  },
  {
   "cell_type": "markdown",
   "metadata": {},
   "source": [
    "<h3>Para ficar melhor entendido, podemos criar uma coluna que nos diga se a data é um fim de semana ou um dia comum e calcular a média para ambas.</h3>"
   ]
  },
  {
   "cell_type": "code",
   "execution_count": 18,
   "metadata": {},
   "outputs": [
    {
     "data": {
      "image/png": "[encoded data removed]",
      "text/plain": [
       "<Figure size 864x576 with 1 Axes>"
      ]
     },
     "metadata": {},
     "output_type": "display_data"
    }
   ],
   "source": [
    "# Criando coluna de estratificação para fim de semana e dia útil\n",
    "full_data_occupied['day_type'] = full_data_occupied['weekday'].apply(lambda x: 'Fim de semana' if ((x == 'Saturday') | (x == 'Sunday')) else 'Dia útil')\n",
    "\n",
    "# Criando tabela com antecedência média das reservas por cada dia da semana\n",
    "mean_advance_by_daytype= full_data_occupied.groupby('day_type')['difference'].mean()\n",
    "\n",
    "# Plotando gráfico\n",
    "plot = sns.barplot(x=mean_advance_by_daytype.index, y=mean_advance_by_daytype.values)\n",
    "plot_config(title='Antecedência média das reservas por tipo de dia', xlabel='Tipo de dia', ylabel='Antecedência média das reservas')\n",
    "\n",
    "# Plotando rótulos\n",
    "for p in plot.patches:\n",
    "        height = p.get_height()\n",
    "        plot.text(x=p.get_x()+p.get_width()/2., y=height-height/2, s='{:.2f} dias'.format(height),\n",
    "                  ha=\"center\", color='white', fontweight='heavy', fontsize=16);"
   ]
  },
  {
   "cell_type": "code",
   "execution_count": 19,
   "metadata": {},
   "outputs": [
    {
     "name": "stdout",
     "output_type": "stream",
     "text": [
      "A antecedência média das reservas é maior nos finais de semana com uma diferença de 1.30 dias.\n"
     ]
    }
   ],
   "source": [
    "# Separando os dados em dias úteis e finais de semana\n",
    "mean_advance_weekends = full_data_occupied[full_data_occupied['day_type'] == 'Fim de semana']['difference'].mean()\n",
    "mean_advance_weekdays = full_data_occupied[full_data_occupied['day_type'] == 'Dia útil']['difference'].mean()\n",
    "\n",
    "# Diferença entre dias úteis e finais de semana quanto à antecedência média das reservas\n",
    "print('A antecedência média das reservas é maior nos finais de semana com uma diferença de {:.2f} dias.'.format(mean_advance_weekdays - mean_advance_weekends))"
   ]
  },
  {
   "cell_type": "markdown",
   "metadata": {},
   "source": [
    "**Resposta**<br>\n",
    "A antecedência média das reservas é maior para os **dias úteis**."
   ]
  }
 ],
 "metadata": {
  "kernelspec": {
   "display_name": "Python 3",
   "language": "python",
   "name": "python3"
  },
  "language_info": {
   "codemirror_mode": {
    "name": "ipython",
    "version": 3
   },
   "file_extension": ".py",
   "mimetype": "text/x-python",
   "name": "python",
   "nbconvert_exporter": "python",
   "pygments_lexer": "ipython3",
   "version": "3.8.8"
  }
 },
 "nbformat": 4,
 "nbformat_minor": 4
}
